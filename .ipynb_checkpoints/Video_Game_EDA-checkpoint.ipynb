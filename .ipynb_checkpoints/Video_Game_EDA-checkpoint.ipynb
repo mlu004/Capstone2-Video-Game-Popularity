{
 "cells": [
  {
   "cell_type": "markdown",
   "metadata": {},
   "source": [
    "# Exploratory Data Analysis of Video Game Data\n",
    "\n",
    "In this notebook we will explore the data through visualization, fill any missing values and look into feature that we hypothesised may have corrilation with our game popularity as well as explore what we will define as a \"popular\" video game.\n",
    "\n",
    "Below is a synopsis of what we learned in this notebook:\n",
    "\n",
    "## Hours of Game play: between 16 and 50 hours\n",
    "The merging of data sets Steam Purchase and Steam Play in part III, shows us that extermely long games have low sales, we determined this cut off was about 50 hours of game play.\n",
    "\n",
    "In part V, we saw that longer games did have a higher percentage of positive reviews, we determined that games above 16 hours were at least 50% positive.\n",
    "\n",
    "So we can conclude keeping the game play between 16 and 50 hours will be a safe area\n",
    "\n",
    "\n",
    "## Popular Genres: Action, Role-Playing, Shooting, Racing, Sports, Platform\n",
    "In part IV: We trimmed the data to look at only the most popular games by sales and then compared the User and critic scores to the sales with the hue set to Genre, Rating, and then Platform. \n",
    "\n",
    "Action - Both User and Critic Scores appear fairly high for these games. Action is a solid choice for Genre\n",
    "\n",
    "Role-Playing - The User and Critic Scores appear to agree, though slightly lower sales than Action, still a solid option\n",
    "\n",
    "Shooting - It looks as if Critics like this genre more than users, sales are slightly higher than RP games, but lower than the potential of the Action games\n",
    "\n",
    "Racing - User and Critics seem to agree on the scores, they are less popular than Action (as far as scores), but have a higher potential for sales. We could hypothesise that this is because Racing games tend to have more co-op options, thus the need for players to have friends who play the game so they can play together.\n",
    "\n",
    "Sports - Just like Shooting, Critics like these games more than users, and a suprisingly high sales similar to Racing. Do these games tend to have co-op options? \n",
    "\n",
    "Platform - There doesn't seem to be many of these in the popular games, however those that are here are scored high and have a decent number of sales. This sounds like a High Risk/High Reward genre.\n",
    "\n",
    "## Popular Platform: Current or up-to-date Systems\n",
    "It doesn't appear as if the critics have a prefrence in Platform, where as it looks like the Useres like the PSP, PS2, and 3DS and appear to dislike the XBox 360 and PS3.\n",
    "\n",
    "\n",
    "## Rating: Everyone, Teen, Mature\n",
    "Looking at the Ratings, it appears that making a game with a rating of Everyone or Teen is mroe popular amongs Users and Critics, with Everyone having a higher sales potentions, likely because the rating allows them to reach a younger audience.\n",
    "\n",
    "It appears that having a Mature rating has higher sales than Teen ratings, however it has the risk of lower user and critic scores."
   ]
  },
  {
   "cell_type": "code",
   "execution_count": null,
   "metadata": {},
   "outputs": [],
   "source": [
    "import pandas as pd\n",
    "from pathlib import Path\n",
    "import seaborn as sns\n",
    "\n",
    "\n",
    "import requests\n",
    "import numpy as np\n",
    "#import pandas_profiling\n",
    "#import tkinter\n",
    "import matplotlib\n",
    "import matplotlib.pyplot as plt\n",
    "matplotlib.use('tkagg')"
   ]
  },
  {
   "cell_type": "markdown",
   "metadata": {},
   "source": [
    "# I. Steam Purchase Data\n",
    "\n",
    "Note: Hours column is all 1's, we're going to use this df to see game popularity by number of steam purchases, and later check if this matches up with data from other data sets."
   ]
  },
  {
   "cell_type": "code",
   "execution_count": null,
   "metadata": {},
   "outputs": [],
   "source": [
    "purchase = pd.read_csv(\"./csv_files/steam_data_purchase_clean.csv\", index_col=0)"
   ]
  },
  {
   "cell_type": "code",
   "execution_count": null,
   "metadata": {},
   "outputs": [],
   "source": [
    "purchase.head()"
   ]
  },
  {
   "cell_type": "code",
   "execution_count": null,
   "metadata": {},
   "outputs": [],
   "source": [
    "purchase.info()"
   ]
  },
  {
   "cell_type": "code",
   "execution_count": null,
   "metadata": {},
   "outputs": [],
   "source": [
    "purchase.describe()"
   ]
  },
  {
   "cell_type": "code",
   "execution_count": null,
   "metadata": {},
   "outputs": [],
   "source": [
    "purchase['Game'].value_counts()"
   ]
  },
  {
   "cell_type": "code",
   "execution_count": null,
   "metadata": {},
   "outputs": [],
   "source": [
    "purchase['Game'].value_counts().describe()"
   ]
  },
  {
   "cell_type": "code",
   "execution_count": null,
   "metadata": {},
   "outputs": [],
   "source": [
    "len(pd.unique(purchase['Game']))"
   ]
  },
  {
   "cell_type": "markdown",
   "metadata": {},
   "source": [
    "There are 5155 different games listed in this data set with a mean 25 sales and a standard deviation of 102 sales. \n",
    "\n",
    "Next I want to look at the distribution of these sales, to see what we can decide on as a good base line for determining if a game is popular or not."
   ]
  },
  {
   "cell_type": "code",
   "execution_count": null,
   "metadata": {},
   "outputs": [],
   "source": [
    "\n",
    "pivoted_purchase = purchase.pivot_table(index='Game', values='Hours', aggfunc='count')\n",
    "pivoted_purchase"
   ]
  },
  {
   "cell_type": "code",
   "execution_count": null,
   "metadata": {},
   "outputs": [],
   "source": [
    "pivoted_purchase.describe()"
   ]
  },
  {
   "cell_type": "markdown",
   "metadata": {},
   "source": [
    "Above confirmed that the pivot that was just done does still give us the same numbers as what we were seeing in the dataframe."
   ]
  },
  {
   "cell_type": "code",
   "execution_count": null,
   "metadata": {},
   "outputs": [],
   "source": [
    "%matplotlib inline\n",
    "pivoted_purchase.plot(kind='hist', bins=70, figsize=[12,6])\n",
    "plt.show()"
   ]
  },
  {
   "cell_type": "code",
   "execution_count": null,
   "metadata": {},
   "outputs": [],
   "source": [
    "pivoted_purchase[pivoted_purchase['Hours'] < 1000].plot(kind='hist', bins=70, figsize=[12,6])\n",
    "plt.show()"
   ]
  },
  {
   "cell_type": "code",
   "execution_count": null,
   "metadata": {},
   "outputs": [],
   "source": [
    "pivoted_purchase[pivoted_purchase['Hours'] < 400].describe()"
   ]
  },
  {
   "cell_type": "markdown",
   "metadata": {},
   "source": [
    "Our data appears to be very skewed on sales. I don't believe this data set will be a good determinate for popularity as the analysis suggests that our game could be popular if we reach 17 sales."
   ]
  },
  {
   "cell_type": "markdown",
   "metadata": {},
   "source": [
    "# II. Steam Play Data"
   ]
  },
  {
   "cell_type": "markdown",
   "metadata": {},
   "source": [
    "In this data set we intend to look at the hours each game has been played to see if that would be a better determinate for game popularity"
   ]
  },
  {
   "cell_type": "code",
   "execution_count": null,
   "metadata": {},
   "outputs": [],
   "source": [
    "play = pd.read_csv(\"./csv_files/steam_data_play_clean.csv\", index_col=0)\n",
    "play.head()"
   ]
  },
  {
   "cell_type": "code",
   "execution_count": null,
   "metadata": {},
   "outputs": [],
   "source": [
    "play.info()"
   ]
  },
  {
   "cell_type": "code",
   "execution_count": null,
   "metadata": {},
   "outputs": [],
   "source": [
    "play.describe()"
   ]
  },
  {
   "cell_type": "code",
   "execution_count": null,
   "metadata": {},
   "outputs": [],
   "source": [
    "play['Game'].value_counts()"
   ]
  },
  {
   "cell_type": "markdown",
   "metadata": {},
   "source": [
    "In the first application of .describe() we are analyzing each instance of hours playing a game seperately. We can see that this will be fairly skewed just by seeing the mean as 48.9 hours versus the median of 4.5 hours. Next I would like to see if this remains true if we take the average hours played grouped by the game name"
   ]
  },
  {
   "cell_type": "code",
   "execution_count": null,
   "metadata": {},
   "outputs": [],
   "source": [
    "play.drop(columns='UserID', inplace=True)\n",
    "avg_hr_play = play.groupby('Game').mean()\n",
    "avg_hr_play.head()"
   ]
  },
  {
   "cell_type": "code",
   "execution_count": null,
   "metadata": {},
   "outputs": [],
   "source": [
    "avg_hr_play.describe()"
   ]
  },
  {
   "cell_type": "code",
   "execution_count": null,
   "metadata": {},
   "outputs": [],
   "source": [
    "avg_hr_play['Hours'].plot(kind='hist', bins=70, figsize=[12,6])"
   ]
  },
  {
   "cell_type": "code",
   "execution_count": null,
   "metadata": {},
   "outputs": [],
   "source": [
    "trim_avg_hr_play = avg_hr_play[avg_hr_play['Hours']<250]"
   ]
  },
  {
   "cell_type": "code",
   "execution_count": null,
   "metadata": {},
   "outputs": [],
   "source": [
    "plt.boxplot(trim_avg_hr_play['Hours'])"
   ]
  },
  {
   "cell_type": "code",
   "execution_count": null,
   "metadata": {},
   "outputs": [],
   "source": [
    "trim_avg_hr_play['Hours'].plot(kind='hist', bins=70, figsize=[12,6])"
   ]
  },
  {
   "cell_type": "code",
   "execution_count": null,
   "metadata": {},
   "outputs": [],
   "source": [
    "trim_avg_hr_play.describe()"
   ]
  },
  {
   "cell_type": "markdown",
   "metadata": {},
   "source": [
    "Looking at these two sets (purchase and play) it's difficult to place a point to determine a video game as \"popular\", with sales we said we could determine 17 sales the video game was popular since it was more popular than 75% of data, similarly using the 75% cut off, we could say a game is popular with only 10 hours of game play. The 10 Hours isn't as strange as the 17 sales. I am curious to look at the corrilations of these. In theory we should have all the same video games in these two data sets since we seperated them from the same set previously, we have just aggragated the data."
   ]
  },
  {
   "cell_type": "markdown",
   "metadata": {},
   "source": [
    "## III. Merging Purchase and Play Data\n",
    "\n",
    "We plan to merge these two data sets back together to see if there is a corrilation between the sales and the hours of play."
   ]
  },
  {
   "cell_type": "code",
   "execution_count": null,
   "metadata": {},
   "outputs": [],
   "source": [
    "merge_purchase_play = pivoted_purchase.merge(avg_hr_play, how='inner', on='Game')\n",
    "merge_purchase_play.head()"
   ]
  },
  {
   "cell_type": "code",
   "execution_count": null,
   "metadata": {},
   "outputs": [],
   "source": [
    "merge_purchase_play.rename(columns={\"Hours_x\": \"Purchase\", \"Hours_y\": \"Hours\"}, inplace=True)"
   ]
  },
  {
   "cell_type": "code",
   "execution_count": null,
   "metadata": {},
   "outputs": [],
   "source": [
    "merge_purchase_play.corr()"
   ]
  },
  {
   "cell_type": "code",
   "execution_count": null,
   "metadata": {},
   "outputs": [],
   "source": [
    "merge_purchase_play.plot.scatter(x='Hours', y='Purchase')"
   ]
  },
  {
   "cell_type": "code",
   "execution_count": null,
   "metadata": {},
   "outputs": [],
   "source": [
    "trim_merged = merge_purchase_play[merge_purchase_play['Hours']<500]\n",
    "\n",
    "trim_merged = trim_merged[trim_merged['Purchase']<1000]\n",
    "\n",
    "trim_merged.head()"
   ]
  },
  {
   "cell_type": "code",
   "execution_count": null,
   "metadata": {},
   "outputs": [],
   "source": [
    "trim_merged.plot.scatter(x='Hours', y='Purchase')"
   ]
  },
  {
   "cell_type": "code",
   "execution_count": null,
   "metadata": {},
   "outputs": [],
   "source": [
    "trim_merged.corr()"
   ]
  },
  {
   "cell_type": "code",
   "execution_count": null,
   "metadata": {},
   "outputs": [],
   "source": [
    "trim_merged[trim_merged['Hours']<200].plot.scatter(x='Hours', y='Purchase')"
   ]
  },
  {
   "cell_type": "code",
   "execution_count": null,
   "metadata": {},
   "outputs": [],
   "source": [
    "trim_merged[trim_merged['Purchase']>100].plot.scatter(x='Hours', y='Purchase')"
   ]
  },
  {
   "cell_type": "markdown",
   "metadata": {},
   "source": [
    "Looking at the scatter plot we can conclude that shorter games tend to be more popular, about 50 hours appears to be when the bulk of the games tend to start lowering in sales."
   ]
  },
  {
   "cell_type": "markdown",
   "metadata": {},
   "source": [
    "##  IV. Video Game Data 2016 Sales"
   ]
  },
  {
   "cell_type": "code",
   "execution_count": null,
   "metadata": {},
   "outputs": [],
   "source": [
    "vg_sales_2016_w_scores = pd.read_csv(r\"./csv_files/Video_Games_Sales_as_at_22_Dec_2016.csv\")\n",
    "vg_sales_2016_w_scores.head()"
   ]
  },
  {
   "cell_type": "code",
   "execution_count": null,
   "metadata": {},
   "outputs": [],
   "source": [
    "vg_sales_2016_w_scores.isna().sum()"
   ]
  },
  {
   "cell_type": "code",
   "execution_count": null,
   "metadata": {},
   "outputs": [],
   "source": [
    "vg_sales_2016_w_scores.shape"
   ]
  },
  {
   "cell_type": "markdown",
   "metadata": {},
   "source": [
    "Let's drop the rows of missing Name, Genre, and publisher, since these are such a small percentage of the data"
   ]
  },
  {
   "cell_type": "code",
   "execution_count": null,
   "metadata": {},
   "outputs": [],
   "source": [
    "vg_sales_2016_w_scores.dropna(subset= ['Name', 'Genre', 'Publisher'], inplace=True)\n",
    "vg_sales_2016_w_scores.isna().sum()"
   ]
  },
  {
   "cell_type": "code",
   "execution_count": null,
   "metadata": {},
   "outputs": [],
   "source": [
    "vg_sales_2016_w_scores.shape"
   ]
  },
  {
   "cell_type": "markdown",
   "metadata": {},
   "source": [
    "The rows missing the Year_of_Release appears to be about 1.5% of our data. For the sake of this project, we will drop this row as well."
   ]
  },
  {
   "cell_type": "code",
   "execution_count": null,
   "metadata": {},
   "outputs": [],
   "source": [
    "vg_sales_2016_w_scores.dropna(subset= ['Year_of_Release'], inplace=True)\n",
    "vg_sales_2016_w_scores.isna().sum()"
   ]
  },
  {
   "cell_type": "markdown",
   "metadata": {},
   "source": [
    "Now about half our data is missing the scores, Rating, and Developer. I want to see if seperating out these by one of the columns will catch all of the missing values, if so we make look at the scores with out this set. However first I want to analyze the data ignoring the columns with missing values."
   ]
  },
  {
   "cell_type": "code",
   "execution_count": null,
   "metadata": {},
   "outputs": [],
   "source": [
    "sales_no_scores = vg_sales_2016_w_scores.drop(columns=['Critic_Score', 'Critic_Count', 'User_Score', 'User_Count', 'Developer', 'Rating'], inplace=False)\n",
    "sales_no_scores.columns"
   ]
  },
  {
   "cell_type": "code",
   "execution_count": null,
   "metadata": {},
   "outputs": [],
   "source": [
    "vg_sales_2016_w_scores.columns"
   ]
  },
  {
   "cell_type": "code",
   "execution_count": null,
   "metadata": {},
   "outputs": [],
   "source": [
    "sales_no_scores.corr()"
   ]
  },
  {
   "cell_type": "markdown",
   "metadata": {},
   "source": [
    "The Year_of_Release does not appear to corrilate with sales. I attempted get_dummies, but there appears to be too many categories to do all of the columns at once, so I will be doing them seperately."
   ]
  },
  {
   "cell_type": "code",
   "execution_count": null,
   "metadata": {},
   "outputs": [],
   "source": [
    "_ = sns.scatterplot(data=sales_no_scores[sales_no_scores['Global_Sales']<40], x='Year_of_Release', y='Global_Sales', hue='Platform')\n",
    "_.legend(loc='center left', bbox_to_anchor=(1.25, 0.5), ncol=1)"
   ]
  },
  {
   "cell_type": "code",
   "execution_count": null,
   "metadata": {},
   "outputs": [],
   "source": [
    "dummy_sales_platform = pd.get_dummies(sales_no_scores, columns=['Platform'])\n",
    "dummy_sales_platform.shape"
   ]
  },
  {
   "cell_type": "code",
   "execution_count": null,
   "metadata": {},
   "outputs": [],
   "source": [
    "plt.subplots(figsize=(12,10))\n",
    "sns.heatmap(dummy_sales_platform.corr());"
   ]
  },
  {
   "cell_type": "markdown",
   "metadata": {},
   "source": [
    "The platforms appear most corrilated with sales in Japan, and the platforms of note are: SNES (Super Nintendo Entertainment System), NES (Nintendo Entertainment System), and GameBoy. Note however, all three of these are outdated gaming systems that no longer have new game releases, so this isn't as useful to us right now.\n",
    "\n",
    "The scatter plot is a little bit more informative, in showing that games that are made on/for platforms that are up to date for the time, we can see this developement with the Play Station."
   ]
  },
  {
   "cell_type": "code",
   "execution_count": null,
   "metadata": {},
   "outputs": [],
   "source": [
    "_ = sns.scatterplot(data=sales_no_scores[sales_no_scores['Global_Sales']<40], x='Year_of_Release', y='Global_Sales', hue='Genre')\n",
    "_.legend(loc='center left', bbox_to_anchor=(1.25, 0.5), ncol=1)"
   ]
  },
  {
   "cell_type": "code",
   "execution_count": null,
   "metadata": {},
   "outputs": [],
   "source": [
    "modern = sales_no_scores[sales_no_scores['Year_of_Release']>2000]\n",
    "_ = sns.scatterplot(data=modern[modern['Global_Sales']<40], x='Year_of_Release', y='Global_Sales', hue='Genre')\n",
    "_.legend(loc='center left', bbox_to_anchor=(1.25, 0.5), ncol=1)"
   ]
  },
  {
   "cell_type": "code",
   "execution_count": null,
   "metadata": {},
   "outputs": [],
   "source": [
    "dummy_sales_genre = pd.get_dummies(sales_no_scores, columns=['Genre'])\n",
    "dummy_sales_genre.shape"
   ]
  },
  {
   "cell_type": "code",
   "execution_count": null,
   "metadata": {},
   "outputs": [],
   "source": [
    "plt.subplots(figsize=(12,10))\n",
    "sns.heatmap(dummy_sales_genre.corr());"
   ]
  },
  {
   "cell_type": "code",
   "execution_count": null,
   "metadata": {},
   "outputs": [],
   "source": [
    "_ = sns.scatterplot(data=sales_no_scores, x='Year_of_Release', y='JP_Sales', hue='Genre')\n",
    "_.legend(loc='center left', bbox_to_anchor=(1.25, 0.5), ncol=1)"
   ]
  },
  {
   "cell_type": "markdown",
   "metadata": {},
   "source": [
    "It appears the Role-Playing Genre may have a slight corrilation with sales in Japan. However id does not appear that this corrilation continues for North America, Europe, Other, or Global. However Platformers do appear slightly corrilated with all of the sales. We see this confirmed in the scatterplot of Japan Sales. \n",
    "\n",
    "The scatterplot of Global Sales was a bit harder to read, so I restricted to games after 2000 so to get a better understanding, and we see Shooter, Role-Playing, and Action being more popular in recent years.\n",
    "\n",
    "Note: We can create these scatter plots to specificaly the desired area if we would rather look at regional sales instead of Global, as we did for Japan."
   ]
  },
  {
   "cell_type": "code",
   "execution_count": null,
   "metadata": {},
   "outputs": [],
   "source": [
    "dummy_sales_publisher = pd.get_dummies(sales_no_scores, columns=['Publisher'])\n",
    "dummy_sales_publisher.shape"
   ]
  },
  {
   "cell_type": "markdown",
   "metadata": {},
   "source": [
    "This appears to be extremely large. In addition the publisher is not necessiarily something under a game designer's control, so we will leave it out for now."
   ]
  },
  {
   "cell_type": "code",
   "execution_count": null,
   "metadata": {},
   "outputs": [],
   "source": [
    "_ = sns.scatterplot(data=sales_no_scores, x='Global_Sales', y='Genre', hue='Platform')\n",
    "_.legend(loc='center left', bbox_to_anchor=(1.25, 0.5), ncol=1)"
   ]
  },
  {
   "cell_type": "code",
   "execution_count": null,
   "metadata": {},
   "outputs": [],
   "source": [
    "dummy_sales_genre_platform = pd.get_dummies(sales_no_scores, columns=['Genre','Platform'])\n",
    "dummy_sales_genre_platform.shape"
   ]
  },
  {
   "cell_type": "code",
   "execution_count": null,
   "metadata": {},
   "outputs": [],
   "source": [
    "plt.subplots(figsize=(12,10))\n",
    "sns.heatmap(dummy_sales_genre_platform.corr());"
   ]
  },
  {
   "cell_type": "markdown",
   "metadata": {},
   "source": [
    "For the sake of looking at modern platforms and making the heat map more legible I will be dropping the columns relating to DS, GameBoy, GameBoy Advanced, Nintendo 64, Nintendo Entertainment System, PlayStation, PlayStation 2, PlayStation 3, Super Nintendo Entertainment System, Wii, and XBox"
   ]
  },
  {
   "cell_type": "code",
   "execution_count": null,
   "metadata": {},
   "outputs": [],
   "source": [
    "dummy_sales_genre_platform.drop(columns=['Platform_DS', 'Platform_GB', 'Platform_GBA', 'Platform_N64', 'Platform_NES', 'Platform_PS', 'Platform_PS2', 'Platform_PS3', 'Platform_SNES', 'Platform_Wii', 'Platform_XB'], inplace=True)\n",
    "plt.subplots(figsize=(12,10))\n",
    "sns.heatmap(dummy_sales_genre_platform.corr());"
   ]
  },
  {
   "cell_type": "markdown",
   "metadata": {},
   "source": [
    "Though I'm not familiar with 2600 and SAT, their negative corrilation with Year_of_Release, so we'll drop them as well."
   ]
  },
  {
   "cell_type": "code",
   "execution_count": null,
   "metadata": {},
   "outputs": [],
   "source": [
    "dummy_sales_genre_platform.drop(columns=['Platform_2600', 'Platform_SAT'], inplace=True)\n",
    "plt.subplots(figsize=(12,10))\n",
    "sns.heatmap(dummy_sales_genre_platform.corr());"
   ]
  },
  {
   "cell_type": "code",
   "execution_count": null,
   "metadata": {},
   "outputs": [],
   "source": [
    "dummy_sales_genre_platform.drop(columns=['Platform_GC', 'Platform_GEN'], inplace=True)\n",
    "plt.subplots(figsize=(12,10))\n",
    "sns.heatmap(dummy_sales_genre_platform.corr());"
   ]
  },
  {
   "cell_type": "markdown",
   "metadata": {},
   "source": [
    "Some interesting notes from this data set is that Strategy games seem to be slightly corrilated with PC gamers, Shooters are slightly corrilated between XBox 360 and PC, Adventure is corrilated between the PSP and the PS Vita, and others. These slight corrilations all make sense, though they don't appear strongly corrilated with sales. Next I want to do a similar analysis of the Data with the Rows that have user and critic scores"
   ]
  },
  {
   "cell_type": "code",
   "execution_count": null,
   "metadata": {},
   "outputs": [],
   "source": [
    "vg_sales_2016_w_scores.columns"
   ]
  },
  {
   "cell_type": "code",
   "execution_count": null,
   "metadata": {},
   "outputs": [],
   "source": [
    "sales_and_scores = vg_sales_2016_w_scores.dropna(axis=0)\n",
    "sales_and_scores.shape"
   ]
  },
  {
   "cell_type": "code",
   "execution_count": null,
   "metadata": {},
   "outputs": [],
   "source": [
    "sales_and_scores.isna().sum()"
   ]
  },
  {
   "cell_type": "code",
   "execution_count": null,
   "metadata": {},
   "outputs": [],
   "source": [
    "plt.subplots(figsize=(12,10))\n",
    "sns.heatmap(sales_and_scores.corr());"
   ]
  },
  {
   "cell_type": "code",
   "execution_count": null,
   "metadata": {},
   "outputs": [],
   "source": [
    "_ = sns.scatterplot(data=sales_and_scores, x='Critic_Score', y='Global_Sales')\n",
    "#_.legend(loc='center left', bbox_to_anchor=(1.25, 0.5), ncol=1)"
   ]
  },
  {
   "cell_type": "code",
   "execution_count": null,
   "metadata": {},
   "outputs": [],
   "source": [
    "_ = sns.scatterplot(data=sales_and_scores, x='User_Score', y='Global_Sales')\n",
    "#_.legend(loc='center left', bbox_to_anchor=(1.25, 0.5), ncol=1)"
   ]
  },
  {
   "cell_type": "markdown",
   "metadata": {},
   "source": [
    "The first thing of note is that the Critic_Score and User_Score are strongly corrilated, which is good, we don't want those not corrilated. We will also note that critic score is slightly corrilated with North American and European sales. Now we will do the same corrilation analysis as we did with the last set, but jump straight to the platform and genre dummies.\n",
    "\n",
    "Looking at the scatter plots we do see Critic and User Scores are corilated with Global Sales."
   ]
  },
  {
   "cell_type": "code",
   "execution_count": null,
   "metadata": {},
   "outputs": [],
   "source": [
    "dummy_sales_scores = pd.get_dummies(sales_and_scores, columns=['Genre','Platform', 'Rating'])\n",
    "dummy_sales_scores.shape"
   ]
  },
  {
   "cell_type": "code",
   "execution_count": null,
   "metadata": {},
   "outputs": [],
   "source": [
    "plt.subplots(figsize=(12,10))\n",
    "sns.heatmap(dummy_sales_scores.corr());"
   ]
  },
  {
   "cell_type": "markdown",
   "metadata": {},
   "source": [
    "Let's drop the outdated platforms as we did before, something to note: 'Platform_GB',  'Platform_N64',  'Platform_NES',  'Platform_SNES',  'Platform_GEN',  'Platform_2600', and 'Platform_SAT' aren't in this set. This makes sense as these are older game systems, and previously I had hypothesized that the missing values in the Scores was corrilated with the year of release, and this more or less confirms that."
   ]
  },
  {
   "cell_type": "code",
   "execution_count": null,
   "metadata": {},
   "outputs": [],
   "source": [
    "dummy_sales_scores.drop(columns=['Platform_DS', 'Platform_GBA', 'Platform_PS', 'Platform_PS2', 'Platform_PS3', 'Platform_Wii', 'Platform_XB', 'Platform_GC'], inplace=True)\n",
    "plt.subplots(figsize=(12,10))\n",
    "sns.heatmap(dummy_sales_scores.corr());"
   ]
  },
  {
   "cell_type": "markdown",
   "metadata": {},
   "source": [
    "Let's also drop sales as we've already looked at the corrilation of sales already"
   ]
  },
  {
   "cell_type": "code",
   "execution_count": null,
   "metadata": {},
   "outputs": [],
   "source": [
    "dummy_sales_scores.drop(columns=['NA_Sales', 'EU_Sales', 'JP_Sales', 'Other_Sales', 'Global_Sales'], inplace=True)\n",
    "plt.subplots(figsize=(12,10))\n",
    "sns.heatmap(dummy_sales_scores.corr());"
   ]
  },
  {
   "cell_type": "markdown",
   "metadata": {},
   "source": [
    "There does not appear to be a strong corrilation between scores and specific genre's or platforms. There are very slight corrilations between Critic_Score and the Sports Genre, Critic_Score and PC games, and User_Score and Role-Playing games. For now we'll leave this and look at if we can determine a cut off for popularity of a game with either the score or the sales."
   ]
  },
  {
   "cell_type": "code",
   "execution_count": null,
   "metadata": {},
   "outputs": [],
   "source": [
    "sales_and_scores.columns"
   ]
  },
  {
   "cell_type": "code",
   "execution_count": null,
   "metadata": {},
   "outputs": [],
   "source": [
    "sales_and_scores.boxplot(column=['NA_Sales', 'EU_Sales', 'JP_Sales', 'Other_Sales'])"
   ]
  },
  {
   "cell_type": "code",
   "execution_count": null,
   "metadata": {},
   "outputs": [],
   "source": [
    "sales_and_scores.describe()"
   ]
  },
  {
   "cell_type": "code",
   "execution_count": null,
   "metadata": {},
   "outputs": [],
   "source": [
    "\n",
    "sales_and_scores[sales_and_scores['NA_Sales']>6].boxplot(column=['NA_Sales'])\n"
   ]
  },
  {
   "cell_type": "code",
   "execution_count": null,
   "metadata": {},
   "outputs": [],
   "source": [
    "sales_and_scores[sales_and_scores['NA_Sales']>6].describe()"
   ]
  },
  {
   "cell_type": "code",
   "execution_count": null,
   "metadata": {},
   "outputs": [],
   "source": [
    "\n",
    "sales_and_scores[sales_and_scores['EU_Sales']>5].boxplot(column=['EU_Sales'])\n"
   ]
  },
  {
   "cell_type": "code",
   "execution_count": null,
   "metadata": {},
   "outputs": [],
   "source": [
    "sales_and_scores[sales_and_scores['EU_Sales']>5].describe()"
   ]
  },
  {
   "cell_type": "code",
   "execution_count": null,
   "metadata": {},
   "outputs": [],
   "source": [
    "\n",
    "sales_and_scores[sales_and_scores['JP_Sales']>2.5].boxplot(column=['JP_Sales'])"
   ]
  },
  {
   "cell_type": "code",
   "execution_count": null,
   "metadata": {},
   "outputs": [],
   "source": [
    "sales_and_scores[sales_and_scores['JP_Sales']>2.5].describe()"
   ]
  },
  {
   "cell_type": "code",
   "execution_count": null,
   "metadata": {},
   "outputs": [],
   "source": [
    "\n",
    "sales_and_scores[sales_and_scores['Other_Sales']>1.5].boxplot(column=['Other_Sales'])"
   ]
  },
  {
   "cell_type": "code",
   "execution_count": null,
   "metadata": {},
   "outputs": [],
   "source": [
    "sales_and_scores[sales_and_scores['Other_Sales']>1.5].describe()"
   ]
  },
  {
   "cell_type": "code",
   "execution_count": null,
   "metadata": {},
   "outputs": [],
   "source": [
    "\n",
    "sales_and_scores[sales_and_scores['Global_Sales']>13].boxplot(column=['Global_Sales'])"
   ]
  },
  {
   "cell_type": "code",
   "execution_count": null,
   "metadata": {},
   "outputs": [],
   "source": [
    "sales_and_scores[sales_and_scores['Global_Sales']>13].describe()"
   ]
  },
  {
   "cell_type": "code",
   "execution_count": null,
   "metadata": {},
   "outputs": [],
   "source": [
    "sales_and_scores[sales_and_scores['Critic_Score']>95].boxplot(column=['Critic_Score'])"
   ]
  },
  {
   "cell_type": "code",
   "execution_count": null,
   "metadata": {},
   "outputs": [],
   "source": [
    "sales_and_scores[sales_and_scores['Critic_Score']>95].describe()"
   ]
  },
  {
   "cell_type": "code",
   "execution_count": null,
   "metadata": {},
   "outputs": [],
   "source": [
    "\n",
    "sales_and_scores[sales_and_scores['User_Score']>8].boxplot(column=['User_Score'])"
   ]
  },
  {
   "cell_type": "code",
   "execution_count": null,
   "metadata": {},
   "outputs": [],
   "source": [
    "sales_and_scores[sales_and_scores['User_Score']>8].describe()"
   ]
  },
  {
   "cell_type": "markdown",
   "metadata": {},
   "source": [
    "So as you're reading this the above has the \"greater than symbol\" instead of the \"less than\", and you are welcome to switch the symbols so you can visualize what is being said now. The sales has many outliers and with the 75th percentile being significantly lower that the maximum value. However the Critic and User Scores had much better spreads. For the sake of curiosity I've swapped the </> symbols to see if there is anything of interest.\n",
    "\n",
    "The cutoff values is set to 3 standard deviations above the mean, for each of the sales we are left with less than 100 games. We could argue that these are the most \"popular\" games. So I want to analyse if there is any corrilations among these games."
   ]
  },
  {
   "cell_type": "code",
   "execution_count": null,
   "metadata": {},
   "outputs": [],
   "source": [
    "filtered = (vg_sales_2016_w_scores['NA_Sales']>6) | (vg_sales_2016_w_scores['EU_Sales'] > 5) | (vg_sales_2016_w_scores['JP_Sales'] > 2.5) | (vg_sales_2016_w_scores['Other_Sales'] > 1.5) | (vg_sales_2016_w_scores['Global_Sales'] > 13)\n",
    "most_pop_games = vg_sales_2016_w_scores[filtered]\n",
    "most_pop_games.dropna(inplace=True)\n",
    "most_pop_games.shape"
   ]
  },
  {
   "cell_type": "code",
   "execution_count": null,
   "metadata": {},
   "outputs": [],
   "source": [
    "plt.subplots(figsize=(12,10))\n",
    "sns.heatmap(most_pop_games.corr());"
   ]
  },
  {
   "cell_type": "markdown",
   "metadata": {},
   "source": [
    "In our top video games we see a corrilation with User_Sores and sales in Japan, and we see that Critic and User Scores are still corrilated."
   ]
  },
  {
   "cell_type": "code",
   "execution_count": null,
   "metadata": {},
   "outputs": [],
   "source": [
    "_ = sns.scatterplot(data=most_pop_games, x='Critic_Score', y='Global_Sales')\n",
    "#_.legend(loc='center left', bbox_to_anchor=(1.25, 0.5), ncol=1)"
   ]
  },
  {
   "cell_type": "code",
   "execution_count": null,
   "metadata": {},
   "outputs": [],
   "source": [
    "_ = sns.scatterplot(data=most_pop_games, x='User_Score', y='Global_Sales')\n",
    "#_.legend(loc='center left', bbox_to_anchor=(1.25, 0.5), ncol=1)"
   ]
  },
  {
   "cell_type": "code",
   "execution_count": null,
   "metadata": {},
   "outputs": [],
   "source": [
    "most_pop_games.columns"
   ]
  },
  {
   "cell_type": "code",
   "execution_count": null,
   "metadata": {},
   "outputs": [],
   "source": [
    "_ = sns.scatterplot(data=most_pop_games, x='Critic_Score', y='Global_Sales', hue='Genre')\n",
    "_.legend(loc='center left', bbox_to_anchor=(1.25, 0.5), ncol=1)"
   ]
  },
  {
   "cell_type": "code",
   "execution_count": null,
   "metadata": {},
   "outputs": [],
   "source": [
    "_ = sns.scatterplot(data=most_pop_games, x='User_Score', y='Global_Sales', hue='Genre')\n",
    "_.legend(loc='center left', bbox_to_anchor=(1.25, 0.5), ncol=1)"
   ]
  },
  {
   "cell_type": "markdown",
   "metadata": {},
   "source": [
    "Looking at our most popular games the ones that stand out are Action, Role-Playing, Shooting, Racing, Platform and Sports.\n",
    "\n",
    "Action (purple) - Both User and Critic Scores appear fairly high for these games. Action is a solid choice for Genre\n",
    "\n",
    "Role-Playing (light blue) - The User and Critic Scores appear to agree, though slightly lower sales than Action, still a solid option\n",
    "\n",
    "Shooting (Pink) - It looks as if Critics like this genre more than users, sales are slightly higher than RP games, but lower than the potential of the Action games\n",
    "\n",
    "Racing (Orange)- User and Critics seem to agree on the scores, they are less popular than Action (as far as scores), but have a higher potential for sales. We could hypothesise that this is because Racing games tend to have more co-op options, thus the need for players to have friends who play the game so they can play together.\n",
    "\n",
    "Sports (Dark Blue)- Just like Shooting, Critics like these games more than users, and a suprisingly high sales similar to Racing. Do these games tend to have co-op options?\n",
    "\n",
    "Platform (Green) - There doesn't seem to be many of these in the popular games, however those that are here are scored high and have a decent number of sales. This sounds like a High Risk/High Reward genre."
   ]
  },
  {
   "cell_type": "code",
   "execution_count": null,
   "metadata": {},
   "outputs": [],
   "source": [
    "_ = sns.scatterplot(data=most_pop_games, x='Critic_Score', y='Global_Sales', hue='Rating')\n",
    "_.legend(loc='center left', bbox_to_anchor=(1.25, 0.5), ncol=1)"
   ]
  },
  {
   "cell_type": "code",
   "execution_count": null,
   "metadata": {},
   "outputs": [],
   "source": [
    "_ = sns.scatterplot(data=most_pop_games, x='User_Score', y='Global_Sales', hue='Rating')\n",
    "_.legend(loc='center left', bbox_to_anchor=(1.25, 0.5), ncol=1)"
   ]
  },
  {
   "cell_type": "markdown",
   "metadata": {},
   "source": [
    "Looking at the Ratings, it appears that making a game with a rating of Everyone or Teen is mroe popular amongs Users and Critics, with Everyone having a higher sales potentions, likely because the rating allows them to reach a younger audience. \n",
    "\n",
    "It appears that having a Mature rating has higher sales than Teen ratings, however it has the risk of lower user and critic scores."
   ]
  },
  {
   "cell_type": "code",
   "execution_count": null,
   "metadata": {},
   "outputs": [],
   "source": [
    "_ = sns.scatterplot(data=most_pop_games, x='Critic_Score', y='Global_Sales', hue='Platform')\n",
    "_.legend(loc='center left', bbox_to_anchor=(1.25, 0.5), ncol=1)"
   ]
  },
  {
   "cell_type": "code",
   "execution_count": null,
   "metadata": {},
   "outputs": [],
   "source": [
    "_ = sns.scatterplot(data=most_pop_games, x='User_Score', y='Global_Sales', hue='Platform')\n",
    "_.legend(loc='center left', bbox_to_anchor=(1.25, 0.5), ncol=1)"
   ]
  },
  {
   "cell_type": "markdown",
   "metadata": {},
   "source": [
    "We can conclude fairly quickly that the outlier game must be Wii Sports, which does have co-op options, and appealing to all ages for its interactive aspects allowing the user to \"work out\" while gaming.\n",
    "\n",
    "It doesn't appear as if the critics have a prefrence in Platform, where as it looks like the Useres like the PSP, PS2, and 3DS and appear to dislike the XBox 360 and PS3."
   ]
  },
  {
   "cell_type": "code",
   "execution_count": null,
   "metadata": {},
   "outputs": [],
   "source": [
    "dummy_popular = pd.get_dummies(most_pop_games, columns=['Genre','Platform', 'Rating'])\n",
    "dummy_popular.shape"
   ]
  },
  {
   "cell_type": "code",
   "execution_count": null,
   "metadata": {},
   "outputs": [],
   "source": [
    "dummy_popular.drop(columns=['Platform_DS', 'Platform_PS', 'Platform_PS2', 'Platform_PS3', 'Platform_Wii', 'Platform_XB'], inplace=True)\n",
    "plt.subplots(figsize=(12,10))\n",
    "sns.heatmap(dummy_popular.corr());"
   ]
  },
  {
   "cell_type": "code",
   "execution_count": null,
   "metadata": {},
   "outputs": [],
   "source": [
    "corr_matrix = dummy_popular.corr()\n",
    "print(corr_matrix[\"Critic_Score\"].sort_values(ascending=False))"
   ]
  },
  {
   "cell_type": "code",
   "execution_count": null,
   "metadata": {},
   "outputs": [],
   "source": [
    "print(corr_matrix[\"User_Score\"].sort_values(ascending=False))"
   ]
  },
  {
   "cell_type": "code",
   "execution_count": null,
   "metadata": {},
   "outputs": [],
   "source": [
    "print(corr_matrix[\"Global_Sales\"].sort_values(ascending=False))"
   ]
  },
  {
   "cell_type": "code",
   "execution_count": null,
   "metadata": {},
   "outputs": [],
   "source": [
    "most_pop_games['Year_of_Release'].describe()"
   ]
  },
  {
   "cell_type": "markdown",
   "metadata": {},
   "source": [
    "Looking at our \"most popular\" games we see some more corralations. The most interesting to note, while still not highly corralted are: Critic and Action, Critic and Shooter, User and Action, User and Platform, User and Fighting, User and Racing, User and Roleplaying, \n",
    "\n",
    "According to History.com the \"Modern Age of Gaming\" started around 2005, let's see if cutting off at 2000 will effect any of our correlations."
   ]
  },
  {
   "cell_type": "code",
   "execution_count": null,
   "metadata": {},
   "outputs": [],
   "source": [
    "modern_most_pop = dummy_popular[dummy_popular['Year_of_Release']>=2000]\n",
    "modern_corr = modern_most_pop.corr()\n",
    "plt.subplots(figsize=(12,10))\n",
    "sns.heatmap(modern_corr)"
   ]
  },
  {
   "cell_type": "code",
   "execution_count": null,
   "metadata": {},
   "outputs": [],
   "source": [
    "print(modern_corr[\"User_Score\"].sort_values(ascending=False))"
   ]
  },
  {
   "cell_type": "markdown",
   "metadata": {},
   "source": [
    "This appears to be much of the same information as we had without cutting off by years, we will leave this data set for now, and work on the next one."
   ]
  },
  {
   "cell_type": "markdown",
   "metadata": {},
   "source": [
    "# V. Tagged Steam Data"
   ]
  },
  {
   "cell_type": "code",
   "execution_count": null,
   "metadata": {},
   "outputs": [],
   "source": [
    "tagged_data = pd.read_csv(\"./csv_files/steam_2019_tags_merged.csv\")\n",
    "tagged_data.columns"
   ]
  },
  {
   "cell_type": "code",
   "execution_count": null,
   "metadata": {},
   "outputs": [],
   "source": [
    "tagged_data.isna().sum()"
   ]
  },
  {
   "cell_type": "markdown",
   "metadata": {},
   "source": [
    "It may be easier to work with the unmerged data first with how large this data set is, since one of the things I want to do is to look at the tag data and convert it to a True/False (1/0) data instead of the number that there are."
   ]
  },
  {
   "cell_type": "code",
   "execution_count": null,
   "metadata": {},
   "outputs": [],
   "source": [
    "steam_data_2019_tags = pd.read_csv(\"./csv_files/steamspy_tag_data.csv\", index_col='appid')\n",
    "steam_data_2019_tags.head()"
   ]
  },
  {
   "cell_type": "code",
   "execution_count": null,
   "metadata": {},
   "outputs": [],
   "source": [
    "steam_data_2019_tags.apply(pd.DataFrame.describe, axis=1)"
   ]
  },
  {
   "cell_type": "markdown",
   "metadata": {},
   "source": [
    "To understand what we are about to do, you need to understand what we are looking at. We have 371 tags for the games, and value with each tag is how many users have tagged the game with that particular tag. The problem is, some tags are incorrect. In the previous notebook if you look at the heads of the data we see appid = 30 \"Day of Defeat\" has 5 tags for WW1 and 122 tags for WW2, a quick internet search tells us this is actually a WW2 game not WW1. My goal will be to create a threshold value that will allow us to decide if a tag is \"correct\" or not. We can change this value to meet our own prefrence, for now I will choose the threshold to be 75% of the max value."
   ]
  },
  {
   "cell_type": "code",
   "execution_count": null,
   "metadata": {},
   "outputs": [],
   "source": [
    "tags_t = steam_data_2019_tags.transpose()\n",
    "\n",
    "tags_t"
   ]
  },
  {
   "cell_type": "code",
   "execution_count": null,
   "metadata": {},
   "outputs": [],
   "source": [
    "for col in tags_t.columns:\n",
    "    maximum = tags_t[col].max()\n",
    "    tags_t.loc[tags_t[col]<(maximum*.75), col] = 0\n",
    "    tags_t.loc[tags_t[col]>=(maximum *.75), col] = 1\n",
    "    \n",
    "tags_t"
   ]
  },
  {
   "cell_type": "code",
   "execution_count": null,
   "metadata": {},
   "outputs": [],
   "source": [
    "tags_tf = tags_t.transpose()\n",
    "tags_tf.head()"
   ]
  },
  {
   "cell_type": "code",
   "execution_count": null,
   "metadata": {},
   "outputs": [],
   "source": [
    "steam_data_2019 = pd.read_csv(\"./csv_files/steam.csv\",index_col='appid')\n",
    "steam_data_2019.head()"
   ]
  },
  {
   "cell_type": "code",
   "execution_count": null,
   "metadata": {},
   "outputs": [],
   "source": [
    "steam_data_2019['rating_percent_pos'] = steam_data_2019['positive_ratings']/(steam_data_2019['negative_ratings'] + steam_data_2019['positive_ratings'])\n",
    "steam_data_2019.dtypes"
   ]
  },
  {
   "cell_type": "code",
   "execution_count": null,
   "metadata": {},
   "outputs": [],
   "source": [
    "steam_data_2019['release_date'] = pd.to_datetime(steam_data_2019['release_date'])\n",
    "steam_data_2019.dtypes"
   ]
  },
  {
   "cell_type": "code",
   "execution_count": null,
   "metadata": {},
   "outputs": [],
   "source": [
    "steam_data_2019['price'].describe()"
   ]
  },
  {
   "cell_type": "code",
   "execution_count": null,
   "metadata": {},
   "outputs": [],
   "source": [
    "steam_data_2019[steam_data_2019['price']>=50]"
   ]
  },
  {
   "cell_type": "code",
   "execution_count": null,
   "metadata": {},
   "outputs": [],
   "source": [
    "steam_data_2019 = steam_data_2019[steam_data_2019['price']<50]"
   ]
  },
  {
   "cell_type": "markdown",
   "metadata": {},
   "source": [
    "Looking at this data we see that 10 of the 11 games that cost over $100 are extremely unpopular with 0 average and mean play time, and relatively low numbers of reviews. As for the 11th game, \"GameMaker Studio 2 Web\" This is not a game it is a program created to help people to create and make a new game. With this information I am choosing to drop these outliers as they are unpopular or just not even a game.\n",
    "\n",
    "When lowering this threshold to $50 only 6 of 38 games have thier average and/or median playtime over 0 minutes, and 3 of those 6 are programs to make a game, and not themselves games.\n",
    "\n",
    "So for now let's note the 3 outliers in this area but go ahead and utilize this $50 cut off. The outliers we are losing and will want to look at later are\n",
    "\n",
    "$54.99 - Dead or Alive 6\n",
    "\n",
    "$54.99 - Warriors Orochi 4\n",
    "\n",
    "$54.99 - X-Plane 11"
   ]
  },
  {
   "cell_type": "code",
   "execution_count": null,
   "metadata": {},
   "outputs": [],
   "source": [
    "tags_merged = pd.merge(\n",
    "    steam_data_2019,\n",
    "    tags_tf,\n",
    "    how=\"inner\",\n",
    "    on='appid',\n",
    "    sort=True,\n",
    "    suffixes=(\"\", \"_tag\"),\n",
    ")\n",
    "\n",
    "tags_merged.head()"
   ]
  },
  {
   "cell_type": "markdown",
   "metadata": {},
   "source": [
    "Something to note as we go into this we do not have sales information with this data set, so we plan on using the rating ratio to determine popularity."
   ]
  },
  {
   "cell_type": "code",
   "execution_count": null,
   "metadata": {},
   "outputs": [],
   "source": [
    "\n",
    "sample = steam_data_2019.sample(frac=.1)"
   ]
  },
  {
   "cell_type": "code",
   "execution_count": null,
   "metadata": {},
   "outputs": [],
   "source": [
    "plt.hist(x=sample['price'], bins = 20)"
   ]
  },
  {
   "cell_type": "code",
   "execution_count": null,
   "metadata": {},
   "outputs": [],
   "source": [
    "sample_corr = sample.corr()\n",
    "print(sample_corr[\"price\"].sort_values(ascending=False))"
   ]
  },
  {
   "cell_type": "code",
   "execution_count": null,
   "metadata": {},
   "outputs": [],
   "source": [
    "_ = sns.scatterplot(data=sample, x='average_playtime', y='rating_percent_pos', hue='price', palette='flare')\n",
    "_.legend(loc='center left', bbox_to_anchor=(1.25, 0.5), ncol=1)"
   ]
  },
  {
   "cell_type": "code",
   "execution_count": null,
   "metadata": {},
   "outputs": [],
   "source": [
    "_ = sns.scatterplot(data=sample[sample['average_playtime']<4000], x='average_playtime', y='rating_percent_pos', hue='price', palette='flare')\n",
    "_.legend(loc='center left', bbox_to_anchor=(1.25, 0.5), ncol=1)"
   ]
  },
  {
   "cell_type": "code",
   "execution_count": null,
   "metadata": {},
   "outputs": [],
   "source": [
    "_ = sns.scatterplot(data=sample, x='median_playtime', y='rating_percent_pos', hue='price', palette='flare')\n",
    "_.legend(loc='center left', bbox_to_anchor=(1.25, 0.5), ncol=1)"
   ]
  },
  {
   "cell_type": "code",
   "execution_count": null,
   "metadata": {},
   "outputs": [],
   "source": [
    "_ = sns.scatterplot(data=sample[sample['median_playtime']<4000], x='median_playtime', y='rating_percent_pos', hue='price', palette='flare')\n",
    "_.legend(loc='center left', bbox_to_anchor=(1.25, 0.5), ncol=1)"
   ]
  },
  {
   "cell_type": "code",
   "execution_count": null,
   "metadata": {},
   "outputs": [],
   "source": [
    "playtime = (sample['median_playtime'] > 1000) & (sample['median_playtime'] < 3000)\n",
    "_ = sns.scatterplot(data=sample[playtime], x='median_playtime', y='price', hue='rating_percent_pos', palette='flare')\n",
    "_.legend(loc='center left', bbox_to_anchor=(1.25, 0.5), ncol=1)"
   ]
  },
  {
   "cell_type": "markdown",
   "metadata": {},
   "source": [
    "It is good to see that the average and median playtime data seems to agree that above 1000 minutes (16.67 hours) appears to have more postive reviews than negative. This in combination with our earlier discoveries we can conclude that it would be good to set our play time between 16 and 50 hours.\n",
    "\n",
    "We also see that prices, that most games cost less than 20 dollars. In our play time range of 16-50 hours we see that we can charge between 20 and 40 dollars for a longer game without loosing popularity (percentage of positive reviews), however the higher prices come with lower reviews if the game is shorter"
   ]
  },
  {
   "cell_type": "code",
   "execution_count": null,
   "metadata": {},
   "outputs": [],
   "source": [
    "tags_tf.sum().sort_values(ascending=False).head(10)"
   ]
  },
  {
   "cell_type": "markdown",
   "metadata": {},
   "source": [
    "Looking at the top 10 tags these are mostly genres (action, adventure, strategy, simulation, rpg, sports) where the others are production:\n",
    "\n",
    "indie - these are games made by individuals or smaller developement teams, not a large game puchlisher. These games are very popular right now.\n",
    "\n",
    "casual - in a world of increasing competitiveness, \"casual\" means the game has non competitive features. A player doesn't have to fight/compete against other players and there isn't an emphasis on \"grinding\". \"Casual\" could also mean the game is more accessible to \"lower level\" gamers, the gamers don't have to exert a lot of effort in order to complete the game.\n",
    "\n",
    "early_access - this is early releases for game testing, this tag is used to acknowledge that there may still be bugs in the game and the expectation of further updates as we finish production of the game. This is good for beta testing.\n",
    "\n",
    "free_to_play - it is free to play the base version of the game, but other parts of the game may require micro transactions to access"
   ]
  },
  {
   "cell_type": "code",
   "execution_count": null,
   "metadata": {},
   "outputs": [],
   "source": []
  },
  {
   "cell_type": "code",
   "execution_count": null,
   "metadata": {},
   "outputs": [],
   "source": []
  },
  {
   "cell_type": "code",
   "execution_count": null,
   "metadata": {},
   "outputs": [],
   "source": []
  }
 ],
 "metadata": {
  "interpreter": {
   "hash": "84303936899caf795f0f46849c46bf83c3093feeb892b02dbd1c15be4583c913"
  },
  "kernelspec": {
   "display_name": "Python 3",
   "language": "python",
   "name": "python3"
  },
  "language_info": {
   "codemirror_mode": {
    "name": "ipython",
    "version": 3
   },
   "file_extension": ".py",
   "mimetype": "text/x-python",
   "name": "python",
   "nbconvert_exporter": "python",
   "pygments_lexer": "ipython3",
   "version": "3.8.8"
  }
 },
 "nbformat": 4,
 "nbformat_minor": 4
}
