{
 "cells": [
  {
   "cell_type": "markdown",
   "id": "381d2ff4",
   "metadata": {},
   "source": [
    "# Video Game Popularity: Preprocessing and Training\n",
    "\n",
    "The goal of this notebook is to prepare data for fitting model developement.\n",
    "\n",
    "We will be creating dummy variable for our categorical data. We did some of this in the EDA notebook, but only for certain columns as it was too large for visualizing. We will also need the version of the Steam Tags data set, where we converted it to boolean rather than counts, recall our threshold for determining this was 75% of the maximum of the tags for each video games.\n"
   ]
  },
  {
   "cell_type": "code",
   "execution_count": 2,
   "id": "4044e32b",
   "metadata": {},
   "outputs": [],
   "source": [
    "import pandas as pd\n",
    "from pathlib import Path\n",
    "import seaborn as sns\n",
    "\n",
    "\n",
    "import requests\n",
    "import numpy as np\n",
    "#import pandas_profiling\n",
    "#import tkinter\n",
    "import matplotlib\n",
    "import matplotlib.pyplot as plt\n",
    "matplotlib.use('tkagg')"
   ]
  },
  {
   "cell_type": "markdown",
   "id": "7d21ccad",
   "metadata": {},
   "source": [
    "We saw in EDA that our first data set wasn't as informative as the other two data sets, so here we plan to focus on those two instead. So to start off let's look at:\n",
    "\n",
    "## 2016 Video Game Sales\n",
    "\n",
    "In this set, we filtered \"most popular\" games by sales, and then we saw a corrilation between sales and critic scores"
   ]
  },
  {
   "cell_type": "code",
   "execution_count": 3,
   "id": "2669426e",
   "metadata": {},
   "outputs": [
    {
     "data": {
      "text/plain": [
       "Name                  2\n",
       "Platform              0\n",
       "Year_of_Release     269\n",
       "Genre                 2\n",
       "Publisher            54\n",
       "NA_Sales              0\n",
       "EU_Sales              0\n",
       "JP_Sales              0\n",
       "Other_Sales           0\n",
       "Global_Sales          0\n",
       "Critic_Score       8582\n",
       "Critic_Count       8582\n",
       "User_Score         9129\n",
       "User_Count         9129\n",
       "Developer          6623\n",
       "Rating             6769\n",
       "dtype: int64"
      ]
     },
     "execution_count": 3,
     "metadata": {},
     "output_type": "execute_result"
    }
   ],
   "source": [
    "vg_sales_2016_w_scores = pd.read_csv(r\"./csv_files/Video_Games_Sales_as_at_22_Dec_2016.csv\")\n",
    "vg_sales_2016_w_scores.isna().sum()"
   ]
  },
  {
   "cell_type": "code",
   "execution_count": 4,
   "id": "d75b9cb7",
   "metadata": {},
   "outputs": [
    {
     "data": {
      "text/plain": [
       "Name                  0\n",
       "Platform              0\n",
       "Year_of_Release     247\n",
       "Genre                 0\n",
       "Publisher             0\n",
       "NA_Sales              0\n",
       "EU_Sales              0\n",
       "JP_Sales              0\n",
       "Other_Sales           0\n",
       "Global_Sales          0\n",
       "Critic_Score       8530\n",
       "Critic_Count       8530\n",
       "User_Score         9079\n",
       "User_Count         9079\n",
       "Developer          6576\n",
       "Rating             6720\n",
       "dtype: int64"
      ]
     },
     "execution_count": 4,
     "metadata": {},
     "output_type": "execute_result"
    }
   ],
   "source": [
    "vg_sales_2016_w_scores.dropna(subset= ['Name', 'Genre', 'Publisher'], inplace=True)\n",
    "vg_sales_2016_w_scores.isna().sum()"
   ]
  },
  {
   "cell_type": "code",
   "execution_count": 5,
   "id": "ef786eee",
   "metadata": {},
   "outputs": [],
   "source": [
    "_ = sns.scatterplot(data=vg_sales_2016_w_scores, x='User_Score', y='Global_Sales')\n",
    "plt.show()"
   ]
  },
  {
   "cell_type": "code",
   "execution_count": null,
   "id": "f3d1effb",
   "metadata": {},
   "outputs": [],
   "source": []
  }
 ],
 "metadata": {
  "kernelspec": {
   "display_name": "Python 3",
   "language": "python",
   "name": "python3"
  },
  "language_info": {
   "codemirror_mode": {
    "name": "ipython",
    "version": 3
   },
   "file_extension": ".py",
   "mimetype": "text/x-python",
   "name": "python",
   "nbconvert_exporter": "python",
   "pygments_lexer": "ipython3",
   "version": "3.8.8"
  }
 },
 "nbformat": 4,
 "nbformat_minor": 5
}
